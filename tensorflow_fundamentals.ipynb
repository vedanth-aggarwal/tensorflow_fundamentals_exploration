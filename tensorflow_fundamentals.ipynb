{
  "nbformat": 4,
  "nbformat_minor": 0,
  "metadata": {
    "colab": {
      "provenance": [],
      "gpuType": "T4",
      "authorship_tag": "ABX9TyMhu1XUbMh90g1+vAXUvz+U",
      "include_colab_link": true
    },
    "kernelspec": {
      "name": "python3",
      "display_name": "Python 3"
    },
    "language_info": {
      "name": "python"
    },
    "accelerator": "GPU"
  },
  "cells": [
    {
      "cell_type": "markdown",
      "metadata": {
        "id": "view-in-github",
        "colab_type": "text"
      },
      "source": [
        "<a href=\"https://colab.research.google.com/github/vedanth-aggarwal/tensorflow_fundamentals_exploration/blob/main/tensorflow_fundamentals.ipynb\" target=\"_parent\"><img src=\"https://colab.research.google.com/assets/colab-badge.svg\" alt=\"Open In Colab\"/></a>"
      ]
    },
    {
      "cell_type": "markdown",
      "source": [
        "# TENSOR FUNDAMENTALS\n",
        "\n",
        "* Introduction\n",
        "* Getting info from tensors\n",
        "* Manipulation of tensor\n",
        "* Tensor and numpy\n",
        "* @tf.function to speed up python func\n",
        "* Using GPUs"
      ],
      "metadata": {
        "id": "iCoKTwiaCoY_"
      }
    },
    {
      "cell_type": "code",
      "source": [
        "# Intro to Tensors\n",
        "import tensorflow as tf\n",
        "print(tf.__version__)"
      ],
      "metadata": {
        "colab": {
          "base_uri": "https://localhost:8080/"
        },
        "id": "gjvYYdrWC37e",
        "outputId": "9051fe6c-720e-489c-b39f-c059144b334a"
      },
      "execution_count": null,
      "outputs": [
        {
          "output_type": "stream",
          "name": "stdout",
          "text": [
            "2.15.0\n"
          ]
        }
      ]
    },
    {
      "cell_type": "code",
      "source": [
        "# Creating tensors with tf.constant()\n",
        "scalar = tf.constant(7) # ctrl, shift space\n",
        "scalar"
      ],
      "metadata": {
        "colab": {
          "base_uri": "https://localhost:8080/"
        },
        "id": "RlvOmx8fDGvp",
        "outputId": "23ff63b3-7c47-4423-ca47-87a3629da821"
      },
      "execution_count": null,
      "outputs": [
        {
          "output_type": "execute_result",
          "data": {
            "text/plain": [
              "<tf.Tensor: shape=(), dtype=int32, numpy=7>"
            ]
          },
          "metadata": {},
          "execution_count": 36
        }
      ]
    },
    {
      "cell_type": "markdown",
      "source": [],
      "metadata": {
        "id": "20TTIL1cDNsa"
      }
    },
    {
      "cell_type": "code",
      "source": [
        "# Dimensions\n",
        "scalar.ndim"
      ],
      "metadata": {
        "colab": {
          "base_uri": "https://localhost:8080/"
        },
        "id": "fNSnkug3DPf5",
        "outputId": "1c46c968-dba9-4d18-fa11-7df040f5b4c2"
      },
      "execution_count": null,
      "outputs": [
        {
          "output_type": "execute_result",
          "data": {
            "text/plain": [
              "0"
            ]
          },
          "metadata": {},
          "execution_count": 37
        }
      ]
    },
    {
      "cell_type": "code",
      "source": [
        "# Vector\n",
        "vector = tf.constant([10,10])\n",
        "vector"
      ],
      "metadata": {
        "colab": {
          "base_uri": "https://localhost:8080/"
        },
        "id": "HOe02FGMDPZv",
        "outputId": "a3a31269-6e9a-48c5-83ec-b8085aafb30f"
      },
      "execution_count": null,
      "outputs": [
        {
          "output_type": "execute_result",
          "data": {
            "text/plain": [
              "<tf.Tensor: shape=(2,), dtype=int32, numpy=array([10, 10], dtype=int32)>"
            ]
          },
          "metadata": {},
          "execution_count": 38
        }
      ]
    },
    {
      "cell_type": "code",
      "source": [
        "# Dimensions\n",
        "vector.ndim"
      ],
      "metadata": {
        "colab": {
          "base_uri": "https://localhost:8080/"
        },
        "id": "IRlTYs-3DPUp",
        "outputId": "066761f2-fdcf-41b5-e19b-f67696198d63"
      },
      "execution_count": null,
      "outputs": [
        {
          "output_type": "execute_result",
          "data": {
            "text/plain": [
              "1"
            ]
          },
          "metadata": {},
          "execution_count": 39
        }
      ]
    },
    {
      "cell_type": "code",
      "source": [
        "# Matrix\n",
        "matrix = tf.constant([[10,7],[10,7]])\n",
        "matrix.ndim"
      ],
      "metadata": {
        "colab": {
          "base_uri": "https://localhost:8080/"
        },
        "id": "emJ1DM2LDPOq",
        "outputId": "e5418538-a51f-44f4-f316-c8ac339670ca"
      },
      "execution_count": null,
      "outputs": [
        {
          "output_type": "execute_result",
          "data": {
            "text/plain": [
              "2"
            ]
          },
          "metadata": {},
          "execution_count": 40
        }
      ]
    },
    {
      "cell_type": "code",
      "source": [
        "matrix2 = tf.constant([[10.,7.],[10.,7.],[10,7]],dtype=tf.float16)\n",
        "# int32 is default ( 32 bit precision)\n",
        "matrix2.ndim"
      ],
      "metadata": {
        "colab": {
          "base_uri": "https://localhost:8080/"
        },
        "id": "IXDqzbwMDPIm",
        "outputId": "d7ba07f1-9484-44ee-ace6-302b3af430ae"
      },
      "execution_count": null,
      "outputs": [
        {
          "output_type": "execute_result",
          "data": {
            "text/plain": [
              "2"
            ]
          },
          "metadata": {},
          "execution_count": 41
        }
      ]
    },
    {
      "cell_type": "markdown",
      "source": [],
      "metadata": {
        "id": "LHxeyB5nESE7"
      }
    },
    {
      "cell_type": "code",
      "source": [
        "# Create a tensor\n",
        "tensor = tf.constant([[[1,2,3],\n",
        "                       [4,5,6]],\n",
        "                     [[7,8,9],\n",
        "                      [10,11,12]],\n",
        "                     [[13,14,15],\n",
        "                      [16,17,18]]])\n",
        "tensor"
      ],
      "metadata": {
        "colab": {
          "base_uri": "https://localhost:8080/"
        },
        "id": "V6DSw_2IDPB4",
        "outputId": "56d6dee2-f40e-4e29-807d-e11cd89b4170"
      },
      "execution_count": null,
      "outputs": [
        {
          "output_type": "execute_result",
          "data": {
            "text/plain": [
              "<tf.Tensor: shape=(3, 2, 3), dtype=int32, numpy=\n",
              "array([[[ 1,  2,  3],\n",
              "        [ 4,  5,  6]],\n",
              "\n",
              "       [[ 7,  8,  9],\n",
              "        [10, 11, 12]],\n",
              "\n",
              "       [[13, 14, 15],\n",
              "        [16, 17, 18]]], dtype=int32)>"
            ]
          },
          "metadata": {},
          "execution_count": 42
        }
      ]
    },
    {
      "cell_type": "markdown",
      "source": [
        "# Definitions\n",
        "* Scalar : single number\n",
        "* Vector : a number with direction ( windspeed and direction)\n",
        "* Matrox : 2 dimensional array of num\n",
        "* Tensor : n dimensional num array ( n is any num, 0 dim is scalar, 1 dim is vector)"
      ],
      "metadata": {
        "id": "IDJtV_2XDO6I"
      }
    },
    {
      "cell_type": "code",
      "source": [
        "#tf.Variabel\n",
        "changeable = tf.Variable([10,7])\n",
        "changeable[0].assign(7)\n",
        "changeable"
      ],
      "metadata": {
        "id": "6LMXLzowDOy5",
        "colab": {
          "base_uri": "https://localhost:8080/"
        },
        "outputId": "73a3a474-4aef-49b5-8885-e984f039db87"
      },
      "execution_count": null,
      "outputs": [
        {
          "output_type": "execute_result",
          "data": {
            "text/plain": [
              "<tf.Variable 'Variable:0' shape=(2,) dtype=int32, numpy=array([7, 7], dtype=int32)>"
            ]
          },
          "metadata": {},
          "execution_count": 43
        }
      ]
    },
    {
      "cell_type": "code",
      "source": [
        "# Random tensors\n",
        "# Arbitrary size with random numbers\n",
        "# Neural network starts with random weights\n",
        "r1 = tf.random.Generator.from_seed(42) # rerpducibility\n",
        "r1 = r1.normal(shape=(3,2))\n",
        "r2 = tf.random.Generator.from_seed(42)\n",
        "r2 = r2.normal(shape=(3,2))\n",
        "r1==r2"
      ],
      "metadata": {
        "id": "a8FB3ceODOkU",
        "colab": {
          "base_uri": "https://localhost:8080/"
        },
        "outputId": "8a990c41-36cb-4495-e0d6-281ac75f6557"
      },
      "execution_count": null,
      "outputs": [
        {
          "output_type": "execute_result",
          "data": {
            "text/plain": [
              "<tf.Tensor: shape=(3, 2), dtype=bool, numpy=\n",
              "array([[ True,  True],\n",
              "       [ True,  True],\n",
              "       [ True,  True]])>"
            ]
          },
          "metadata": {},
          "execution_count": 44
        }
      ]
    },
    {
      "cell_type": "code",
      "source": [
        "# Shuffle elements\n",
        "# If dataset is ordered, then neural network may learn the 1st item only Ramen then spageti\n",
        "notshuffle = tf.constant([[10,7],[3,4],[2,5]])\n",
        "\n",
        "# For shuffling in same order global and operation level seed should be same\n",
        "tf.random.set_seed(42)\n",
        "tf.random.shuffle(notshuffle,seed=42) # Not work alone"
      ],
      "metadata": {
        "id": "Tj55t71PDChc",
        "colab": {
          "base_uri": "https://localhost:8080/"
        },
        "outputId": "43ef0fcb-0421-432a-b0f3-c1497e087c9c"
      },
      "execution_count": null,
      "outputs": [
        {
          "output_type": "execute_result",
          "data": {
            "text/plain": [
              "<tf.Tensor: shape=(3, 2), dtype=int32, numpy=\n",
              "array([[10,  7],\n",
              "       [ 3,  4],\n",
              "       [ 2,  5]], dtype=int32)>"
            ]
          },
          "metadata": {},
          "execution_count": 45
        }
      ]
    },
    {
      "cell_type": "code",
      "source": [
        "# Tensor from numpy array\n",
        "tf.ones([10,7])\n",
        "tf.zeros([10,7])\n",
        "\n",
        "\"\"\" Tensors can be run on a GPU much faster for numerica computing than ndarrays\"\"\""
      ],
      "metadata": {
        "colab": {
          "base_uri": "https://localhost:8080/",
          "height": 35
        },
        "id": "NUaUTaol87_i",
        "outputId": "ca09c50a-35c0-40be-d472-2cfa74ba94e2"
      },
      "execution_count": null,
      "outputs": [
        {
          "output_type": "execute_result",
          "data": {
            "text/plain": [
              "' Tensors can be run on a GPU much faster for numerica computing than ndarrays'"
            ],
            "application/vnd.google.colaboratory.intrinsic+json": {
              "type": "string"
            }
          },
          "metadata": {},
          "execution_count": 46
        }
      ]
    },
    {
      "cell_type": "code",
      "source": [
        "import numpy as np\n",
        "numpy_A = np.arange(1,25,dtype=np.int32)\n",
        "\n",
        "# X = tf.constant(matrix) # capital for matrix / tensor\n",
        "# y = tf.constant(vector) # small for vector\n",
        "\n",
        "A = tf.constant(numpy_A,shape=(2,3,4)) # no. of elemnts must be same"
      ],
      "metadata": {
        "id": "Klzg9NA6_UzY"
      },
      "execution_count": null,
      "outputs": []
    },
    {
      "cell_type": "code",
      "source": [
        "\"\"\"\n",
        "Getting information from tensors\n",
        "- Shape : element arrangement\n",
        "- Rank : no of dimensions\n",
        "- Axis/dimension\n",
        "- Size\n",
        "\"\"\"\n",
        "\n"
      ],
      "metadata": {
        "colab": {
          "base_uri": "https://localhost:8080/",
          "height": 52
        },
        "id": "hZAsoBOOAD8W",
        "outputId": "2e5388fb-02c3-4d75-ab80-92a4686024fa"
      },
      "execution_count": null,
      "outputs": [
        {
          "output_type": "execute_result",
          "data": {
            "text/plain": [
              "'\\nGetting information from tensors\\n- Shape : element arrangement\\n- Rank : no of dimensions\\n- Axis/dimension\\n- Size\\n'"
            ],
            "application/vnd.google.colaboratory.intrinsic+json": {
              "type": "string"
            }
          },
          "metadata": {},
          "execution_count": 48
        }
      ]
    },
    {
      "cell_type": "code",
      "source": [
        "rank4 = tf.zeros(shape=(2,3,4,5))\n",
        "rank4"
      ],
      "metadata": {
        "colab": {
          "base_uri": "https://localhost:8080/"
        },
        "id": "45v6C63ZA_Rs",
        "outputId": "6e9aa9e3-260e-4bfa-803f-aa6742071c52"
      },
      "execution_count": null,
      "outputs": [
        {
          "output_type": "execute_result",
          "data": {
            "text/plain": [
              "<tf.Tensor: shape=(2, 3, 4, 5), dtype=float32, numpy=\n",
              "array([[[[0., 0., 0., 0., 0.],\n",
              "         [0., 0., 0., 0., 0.],\n",
              "         [0., 0., 0., 0., 0.],\n",
              "         [0., 0., 0., 0., 0.]],\n",
              "\n",
              "        [[0., 0., 0., 0., 0.],\n",
              "         [0., 0., 0., 0., 0.],\n",
              "         [0., 0., 0., 0., 0.],\n",
              "         [0., 0., 0., 0., 0.]],\n",
              "\n",
              "        [[0., 0., 0., 0., 0.],\n",
              "         [0., 0., 0., 0., 0.],\n",
              "         [0., 0., 0., 0., 0.],\n",
              "         [0., 0., 0., 0., 0.]]],\n",
              "\n",
              "\n",
              "       [[[0., 0., 0., 0., 0.],\n",
              "         [0., 0., 0., 0., 0.],\n",
              "         [0., 0., 0., 0., 0.],\n",
              "         [0., 0., 0., 0., 0.]],\n",
              "\n",
              "        [[0., 0., 0., 0., 0.],\n",
              "         [0., 0., 0., 0., 0.],\n",
              "         [0., 0., 0., 0., 0.],\n",
              "         [0., 0., 0., 0., 0.]],\n",
              "\n",
              "        [[0., 0., 0., 0., 0.],\n",
              "         [0., 0., 0., 0., 0.],\n",
              "         [0., 0., 0., 0., 0.],\n",
              "         [0., 0., 0., 0., 0.]]]], dtype=float32)>"
            ]
          },
          "metadata": {},
          "execution_count": 49
        }
      ]
    },
    {
      "cell_type": "code",
      "source": [
        "rank4[0]\n",
        "rank4.shape,rank4.ndim,tf.size(rank4)"
      ],
      "metadata": {
        "colab": {
          "base_uri": "https://localhost:8080/"
        },
        "id": "IxLfi-geA_PG",
        "outputId": "d031160e-b3d6-42ad-cbde-2fc34b969b6d"
      },
      "execution_count": null,
      "outputs": [
        {
          "output_type": "execute_result",
          "data": {
            "text/plain": [
              "(TensorShape([2, 3, 4, 5]), 4, <tf.Tensor: shape=(), dtype=int32, numpy=120>)"
            ]
          },
          "metadata": {},
          "execution_count": 50
        }
      ]
    },
    {
      "cell_type": "code",
      "source": [
        "# .dtype\n",
        "# .ndim\n",
        "# .shape\n",
        "#Element along 0 axis  / last axis\n",
        "rank4.shape[-1]\n",
        "tf.size(rank4).numpy() # converts to normal"
      ],
      "metadata": {
        "colab": {
          "base_uri": "https://localhost:8080/"
        },
        "id": "_m5-GXjIA_Mi",
        "outputId": "58e7f9f0-fce1-4743-a75a-4e57dd7b8778"
      },
      "execution_count": null,
      "outputs": [
        {
          "output_type": "execute_result",
          "data": {
            "text/plain": [
              "120"
            ]
          },
          "metadata": {},
          "execution_count": 51
        }
      ]
    },
    {
      "cell_type": "code",
      "source": [
        "# Indexing - Like Python Lists\n",
        "rank4[:2,:2,:2,:2]"
      ],
      "metadata": {
        "id": "Qc27cvTfA_D2",
        "colab": {
          "base_uri": "https://localhost:8080/"
        },
        "outputId": "49b77e12-6d8f-4f80-c27a-e8998138a10f"
      },
      "execution_count": null,
      "outputs": [
        {
          "output_type": "execute_result",
          "data": {
            "text/plain": [
              "<tf.Tensor: shape=(2, 2, 2, 2), dtype=float32, numpy=\n",
              "array([[[[0., 0.],\n",
              "         [0., 0.]],\n",
              "\n",
              "        [[0., 0.],\n",
              "         [0., 0.]]],\n",
              "\n",
              "\n",
              "       [[[0., 0.],\n",
              "         [0., 0.]],\n",
              "\n",
              "        [[0., 0.],\n",
              "         [0., 0.]]]], dtype=float32)>"
            ]
          },
          "metadata": {},
          "execution_count": 52
        }
      ]
    },
    {
      "cell_type": "code",
      "source": [
        "rank4[:1,:1,:1]"
      ],
      "metadata": {
        "colab": {
          "base_uri": "https://localhost:8080/"
        },
        "id": "kPsFkj9dA_BX",
        "outputId": "567fbc55-5a0f-4cf4-a96f-6d90ddb649de"
      },
      "execution_count": null,
      "outputs": [
        {
          "output_type": "execute_result",
          "data": {
            "text/plain": [
              "<tf.Tensor: shape=(1, 1, 1, 5), dtype=float32, numpy=array([[[[0., 0., 0., 0., 0.]]]], dtype=float32)>"
            ]
          },
          "metadata": {},
          "execution_count": 53
        }
      ]
    },
    {
      "cell_type": "markdown",
      "source": [],
      "metadata": {
        "id": "EPWWDKexFdto"
      }
    },
    {
      "cell_type": "code",
      "source": [
        "rank2 = tf.constant([[10,7],[1,7]])"
      ],
      "metadata": {
        "id": "tX_vvQOHA---"
      },
      "execution_count": null,
      "outputs": []
    },
    {
      "cell_type": "code",
      "source": [
        "# Add extra dimension\n",
        "\n",
        "rank3 = rank2[...,tf.newaxis] # None in numpy - ... = : :"
      ],
      "metadata": {
        "id": "BoZ12NlaA-8a"
      },
      "execution_count": null,
      "outputs": []
    },
    {
      "cell_type": "code",
      "source": [
        "# Alternative\n",
        "tf.expand_dims(rank2,axis=-1)"
      ],
      "metadata": {
        "colab": {
          "base_uri": "https://localhost:8080/"
        },
        "id": "gv5XH7fsA-5w",
        "outputId": "47fbbda6-d543-4b18-af3f-23a0b763b1bf"
      },
      "execution_count": null,
      "outputs": [
        {
          "output_type": "execute_result",
          "data": {
            "text/plain": [
              "<tf.Tensor: shape=(2, 2, 1), dtype=int32, numpy=\n",
              "array([[[10],\n",
              "        [ 7]],\n",
              "\n",
              "       [[ 1],\n",
              "        [ 7]]], dtype=int32)>"
            ]
          },
          "metadata": {},
          "execution_count": 56
        }
      ]
    },
    {
      "cell_type": "code",
      "source": [
        "# Manipulation\n",
        "# Basic Airthmetic\n",
        "t = tf.constant([[10,7],[3,4]])\n",
        "t+10"
      ],
      "metadata": {
        "colab": {
          "base_uri": "https://localhost:8080/"
        },
        "id": "aftGIjqkA-3Z",
        "outputId": "0b2afd3f-d5a5-4af3-ad45-247f1cf24cbe"
      },
      "execution_count": null,
      "outputs": [
        {
          "output_type": "execute_result",
          "data": {
            "text/plain": [
              "<tf.Tensor: shape=(2, 2), dtype=int32, numpy=\n",
              "array([[20, 17],\n",
              "       [13, 14]], dtype=int32)>"
            ]
          },
          "metadata": {},
          "execution_count": 57
        }
      ]
    },
    {
      "cell_type": "code",
      "source": [
        "# Built in functions\n",
        "tf.multiply(t,10) # faster on GPU"
      ],
      "metadata": {
        "colab": {
          "base_uri": "https://localhost:8080/"
        },
        "id": "4mYUu-sqA-1C",
        "outputId": "e7b6eb8c-e44a-46b6-c93e-15cfbda0ee9c"
      },
      "execution_count": null,
      "outputs": [
        {
          "output_type": "execute_result",
          "data": {
            "text/plain": [
              "<tf.Tensor: shape=(2, 2), dtype=int32, numpy=\n",
              "array([[100,  70],\n",
              "       [ 30,  40]], dtype=int32)>"
            ]
          },
          "metadata": {},
          "execution_count": 58
        }
      ]
    },
    {
      "cell_type": "code",
      "source": [
        "# Matrix multiplication\n",
        "# Dot vs element wise\n",
        "tf.matmul(t,t)\n",
        "t * t # element wise\n",
        "t @ t # python dot product matrixmultiplication.xyz"
      ],
      "metadata": {
        "colab": {
          "base_uri": "https://localhost:8080/"
        },
        "id": "1PsBM3fUA-yi",
        "outputId": "8711e8b0-3986-49cf-913f-bdcfd9e54a16"
      },
      "execution_count": null,
      "outputs": [
        {
          "output_type": "execute_result",
          "data": {
            "text/plain": [
              "<tf.Tensor: shape=(2, 2), dtype=int32, numpy=\n",
              "array([[121,  98],\n",
              "       [ 42,  37]], dtype=int32)>"
            ]
          },
          "metadata": {},
          "execution_count": 59
        }
      ]
    },
    {
      "cell_type": "code",
      "source": [
        "# Dot product - tf.matmul() or tf.tensordot()\n",
        "# transpose and reshape give diff outputs\n",
        "# transpose flips axis - BETTER\n",
        "# reshape just adjusts elemtent order to fit shape"
      ],
      "metadata": {
        "id": "FU1MFKb-A-wK"
      },
      "execution_count": null,
      "outputs": []
    },
    {
      "cell_type": "code",
      "source": [
        "# Changing datatype of tensor\n",
        "\n",
        "B = tf.constant([1.7,7.3])\n",
        "C = tf.constant([7,10])\n",
        "# float 32 to 16 bit mixed precision"
      ],
      "metadata": {
        "id": "CtQNL85HA-tR"
      },
      "execution_count": null,
      "outputs": []
    },
    {
      "cell_type": "code",
      "source": [
        "B = tf.cast(B,dtype=tf.float16)"
      ],
      "metadata": {
        "id": "P_RRCOBdA-q9"
      },
      "execution_count": null,
      "outputs": []
    },
    {
      "cell_type": "code",
      "source": [
        "# AGGREGATION\n",
        "# Condensing tensor from multiple values to smaller amount of values\n",
        "\n",
        "# Get absolute values\n",
        "D = tf.constant([-7,-10])\n",
        "tf.abs(D)"
      ],
      "metadata": {
        "id": "kwfoDuRfA-oj",
        "colab": {
          "base_uri": "https://localhost:8080/"
        },
        "outputId": "a1e04919-5436-40ae-f674-60655474045a"
      },
      "execution_count": null,
      "outputs": [
        {
          "output_type": "execute_result",
          "data": {
            "text/plain": [
              "<tf.Tensor: shape=(2,), dtype=int32, numpy=array([ 7, 10], dtype=int32)>"
            ]
          },
          "metadata": {},
          "execution_count": 62
        }
      ]
    },
    {
      "cell_type": "code",
      "source": [
        "# Get the minimum and maximum\n",
        "tf.reduce_min(D)\n",
        "# Get mean\n",
        "tf.reduce_mean(D)\n",
        "# Get sum\n",
        "tf.reduce_sum(D)\n",
        "# STD and variance\n",
        "\n",
        "import tensorflow_probability as tfp\n",
        "tfp.stats.variance(D)\n",
        "\n",
        "tf.math.reduce_std(tf.cast(D,dtype=tf.float32))\n",
        "tf.math.reduce_variance(tf.cast(D,dtype=tf.float32))"
      ],
      "metadata": {
        "id": "Q3R2zw_vA-l6",
        "colab": {
          "base_uri": "https://localhost:8080/"
        },
        "outputId": "87a97eba-5566-4c15-8204-f1a1caa600f4"
      },
      "execution_count": null,
      "outputs": [
        {
          "output_type": "execute_result",
          "data": {
            "text/plain": [
              "<tf.Tensor: shape=(), dtype=float32, numpy=2.25>"
            ]
          },
          "metadata": {},
          "execution_count": 74
        }
      ]
    },
    {
      "cell_type": "code",
      "source": [
        "# Positional max and min ( index of those values )\n",
        "tf.random.set_seed(42)\n",
        "F = tf.random.uniform(shape=[50])\n",
        "F[tf.argmax(F)]"
      ],
      "metadata": {
        "id": "aspGbgLqA-jK",
        "colab": {
          "base_uri": "https://localhost:8080/"
        },
        "outputId": "0b4a0955-b43d-40e1-8a71-226b49829674"
      },
      "execution_count": null,
      "outputs": [
        {
          "output_type": "execute_result",
          "data": {
            "text/plain": [
              "<tf.Tensor: shape=(), dtype=int64, numpy=42>"
            ]
          },
          "metadata": {},
          "execution_count": 76
        }
      ]
    },
    {
      "cell_type": "markdown",
      "source": [
        "## Squeezing a tensor ( removing all single dimensions )"
      ],
      "metadata": {
        "id": "uhkybH5hA-gr"
      }
    },
    {
      "cell_type": "code",
      "source": [
        "G = tf.constant(tf.random.uniform(shape=[50]),shape=(1,1,1,1,50))"
      ],
      "metadata": {
        "id": "YJW62ifoA-d8"
      },
      "execution_count": null,
      "outputs": []
    },
    {
      "cell_type": "code",
      "source": [
        "squeeze = tf.squeeze(G)\n",
        "squeeze # removes all dimensions of size 1"
      ],
      "metadata": {
        "id": "ZiBaHt-eA-an",
        "colab": {
          "base_uri": "https://localhost:8080/"
        },
        "outputId": "68a7289f-ba5f-4052-c8fb-3209f90702cc"
      },
      "execution_count": null,
      "outputs": [
        {
          "output_type": "execute_result",
          "data": {
            "text/plain": [
              "<tf.Tensor: shape=(50,), dtype=float32, numpy=\n",
              "array([0.68789124, 0.48447883, 0.9309944 , 0.252187  , 0.73115396,\n",
              "       0.89256823, 0.94674826, 0.7493341 , 0.34925628, 0.54718256,\n",
              "       0.26160395, 0.69734323, 0.11962581, 0.53484344, 0.7148968 ,\n",
              "       0.87501776, 0.33967495, 0.17377627, 0.4418521 , 0.9008261 ,\n",
              "       0.13803864, 0.12217975, 0.5754491 , 0.9417181 , 0.9186585 ,\n",
              "       0.59708476, 0.6109482 , 0.82086265, 0.83269787, 0.8915849 ,\n",
              "       0.01377225, 0.49807465, 0.57503664, 0.6856195 , 0.75972784,\n",
              "       0.908944  , 0.40900218, 0.8765154 , 0.53890026, 0.42733097,\n",
              "       0.401173  , 0.66623247, 0.16348064, 0.18220246, 0.97040176,\n",
              "       0.06139731, 0.53034747, 0.9869994 , 0.4746945 , 0.8646754 ],\n",
              "      dtype=float32)>"
            ]
          },
          "metadata": {},
          "execution_count": 79
        }
      ]
    },
    {
      "cell_type": "code",
      "source": [
        "# One hot encoding tensors - numerical encoding\n",
        "# Machine Learning Mastery\n",
        "\"\"\"\n",
        "Red = 1,0,0\n",
        "Blue = 0,1,0\n",
        "Green = 0,0,1\n",
        "\"\"\"\n",
        "\n",
        "l = [0,1,2,3]\n",
        "tf.one_hot(l,depth=4)"
      ],
      "metadata": {
        "id": "BWXiDmsBA-N5",
        "colab": {
          "base_uri": "https://localhost:8080/"
        },
        "outputId": "2492502e-83b1-4924-bcc8-f10a28bae019"
      },
      "execution_count": null,
      "outputs": [
        {
          "output_type": "execute_result",
          "data": {
            "text/plain": [
              "<tf.Tensor: shape=(4, 4), dtype=float32, numpy=\n",
              "array([[1., 0., 0., 0.],\n",
              "       [0., 1., 0., 0.],\n",
              "       [0., 0., 1., 0.],\n",
              "       [0., 0., 0., 1.]], dtype=float32)>"
            ]
          },
          "metadata": {},
          "execution_count": 80
        }
      ]
    },
    {
      "cell_type": "code",
      "source": [
        "tf.one_hot(l,depth=3,on_value=\"YES\",off_value='NO')"
      ],
      "metadata": {
        "id": "J5daBH3-A9Fz",
        "colab": {
          "base_uri": "https://localhost:8080/"
        },
        "outputId": "521ef0ed-6ed9-4581-c7f5-333f66720c43"
      },
      "execution_count": null,
      "outputs": [
        {
          "output_type": "execute_result",
          "data": {
            "text/plain": [
              "<tf.Tensor: shape=(4, 3), dtype=string, numpy=\n",
              "array([[b'YES', b'NO', b'NO'],\n",
              "       [b'NO', b'YES', b'NO'],\n",
              "       [b'NO', b'NO', b'YES'],\n",
              "       [b'NO', b'NO', b'NO']], dtype=object)>"
            ]
          },
          "metadata": {},
          "execution_count": 83
        }
      ]
    },
    {
      "cell_type": "code",
      "source": [
        "# MATHS\n",
        "H = tf.range(1,10)\n",
        "tf.square(H)\n",
        "tf.sqrt(tf.cast(H,dtype=tf.float32))\n",
        "tf.math.log(tf.cast(H,dtype=tf.float32))"
      ],
      "metadata": {
        "colab": {
          "base_uri": "https://localhost:8080/"
        },
        "id": "UgvnKwulF0PO",
        "outputId": "7dc87583-5635-4896-d47a-d6912e8cf6a7"
      },
      "execution_count": null,
      "outputs": [
        {
          "output_type": "execute_result",
          "data": {
            "text/plain": [
              "<tf.Tensor: shape=(9,), dtype=float32, numpy=\n",
              "array([0.       , 0.6931472, 1.0986123, 1.3862944, 1.609438 , 1.7917595,\n",
              "       1.9459102, 2.0794415, 2.1972246], dtype=float32)>"
            ]
          },
          "metadata": {},
          "execution_count": 90
        }
      ]
    },
    {
      "cell_type": "code",
      "source": [
        "# Tensors & Numpy\n",
        "J = tf.constant(np.array([3.0,3.5]))\n",
        "np.array(J)\n",
        "J.numpy()"
      ],
      "metadata": {
        "colab": {
          "base_uri": "https://localhost:8080/"
        },
        "id": "oLRauy7CGLAq",
        "outputId": "880dcb25-b031-4e95-b199-4fcc5c69effe"
      },
      "execution_count": null,
      "outputs": [
        {
          "output_type": "execute_result",
          "data": {
            "text/plain": [
              "array([3. , 3.5])"
            ]
          },
          "metadata": {},
          "execution_count": 94
        }
      ]
    },
    {
      "cell_type": "code",
      "source": [
        "numpy = tf.constant(np.array([3.0])) # float64\n",
        "tens = tf.constant(np.array([3.0])) # float32"
      ],
      "metadata": {
        "id": "iZF6BYgAG1z_"
      },
      "execution_count": null,
      "outputs": []
    },
    {
      "cell_type": "code",
      "source": [
        "import tensorflow as tf\n",
        "tf.config.list_physical_devices() # 'GPU'"
      ],
      "metadata": {
        "colab": {
          "base_uri": "https://localhost:8080/"
        },
        "id": "ucouMx4KHmQO",
        "outputId": "30296344-da3f-4960-a020-9ccdbc313424"
      },
      "execution_count": null,
      "outputs": [
        {
          "output_type": "execute_result",
          "data": {
            "text/plain": [
              "[PhysicalDevice(name='/physical_device:CPU:0', device_type='CPU'),\n",
              " PhysicalDevice(name='/physical_device:GPU:0', device_type='GPU')]"
            ]
          },
          "metadata": {},
          "execution_count": 1
        }
      ]
    },
    {
      "cell_type": "code",
      "source": [
        "!nvidia-smi"
      ],
      "metadata": {
        "colab": {
          "base_uri": "https://localhost:8080/"
        },
        "id": "Fvw9N3-vHxCZ",
        "outputId": "365a8b9c-028a-478c-bc0b-88686a65aa5b"
      },
      "execution_count": null,
      "outputs": [
        {
          "output_type": "stream",
          "name": "stdout",
          "text": [
            "Wed Apr 17 08:16:31 2024       \n",
            "+---------------------------------------------------------------------------------------+\n",
            "| NVIDIA-SMI 535.104.05             Driver Version: 535.104.05   CUDA Version: 12.2     |\n",
            "|-----------------------------------------+----------------------+----------------------+\n",
            "| GPU  Name                 Persistence-M | Bus-Id        Disp.A | Volatile Uncorr. ECC |\n",
            "| Fan  Temp   Perf          Pwr:Usage/Cap |         Memory-Usage | GPU-Util  Compute M. |\n",
            "|                                         |                      |               MIG M. |\n",
            "|=========================================+======================+======================|\n",
            "|   0  Tesla T4                       Off | 00000000:00:04.0 Off |                    0 |\n",
            "| N/A   51C    P8               9W /  70W |      3MiB / 15360MiB |      0%      Default |\n",
            "|                                         |                      |                  N/A |\n",
            "+-----------------------------------------+----------------------+----------------------+\n",
            "                                                                                         \n",
            "+---------------------------------------------------------------------------------------+\n",
            "| Processes:                                                                            |\n",
            "|  GPU   GI   CI        PID   Type   Process name                            GPU Memory |\n",
            "|        ID   ID                                                             Usage      |\n",
            "|=======================================================================================|\n",
            "|  No running processes found                                                           |\n",
            "+---------------------------------------------------------------------------------------+\n"
          ]
        }
      ]
    },
    {
      "cell_type": "code",
      "source": [
        "# CUDA-enabled GPU is automatically used by Tensorflow when available"
      ],
      "metadata": {
        "id": "ORZnQNkAIPfJ"
      },
      "execution_count": null,
      "outputs": []
    }
  ]
}